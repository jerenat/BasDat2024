{
  "cells": [
    {
      "cell_type": "markdown",
      "source": [
        "# Código de inicialización\n",
        "Este código permite inicializar las bibliotecas para usar SQLite en la máquina virtual de Google Colab. El código además elimina cualquier dato almacenado anteriormente en el archvio `ejemplos.db`. Es recomendable volver a correr el código cada vez que se comience con la resolución de un nuevo ejercicio."
      ],
      "metadata": {
        "id": "QuMn1Lbbdz7p"
      },
      "id": "QuMn1Lbbdz7p"
    },
    {
      "cell_type": "code",
      "source": [
        "!pip install pymysql\n",
        "%load_ext sql\n",
        "!rm -rf ejemplos.db\n",
        "%sql sqlite:///ejemplos.db"
      ],
      "metadata": {
        "id": "DRIupxipNuoC",
        "colab": {
          "base_uri": "https://localhost:8080/"
        },
        "outputId": "afb918ee-9561-43cc-cdf2-393ff248f260"
      },
      "id": "DRIupxipNuoC",
      "execution_count": 2,
      "outputs": [
        {
          "output_type": "stream",
          "name": "stdout",
          "text": [
            "Collecting pymysql\n",
            "  Downloading PyMySQL-1.1.1-py3-none-any.whl.metadata (4.4 kB)\n",
            "Downloading PyMySQL-1.1.1-py3-none-any.whl (44 kB)\n",
            "\u001b[?25l   \u001b[90m━━━━━━━━━━━━━━━━━━━━━━━━━━━━━━━━━━━━━━━━\u001b[0m \u001b[32m0.0/45.0 kB\u001b[0m \u001b[31m?\u001b[0m eta \u001b[36m-:--:--\u001b[0m\r\u001b[2K   \u001b[90m━━━━━━━━━━━━━━━━━━━━━━━━━━━━━━━━━━━━━━━━\u001b[0m \u001b[32m45.0/45.0 kB\u001b[0m \u001b[31m3.3 MB/s\u001b[0m eta \u001b[36m0:00:00\u001b[0m\n",
            "\u001b[?25hInstalling collected packages: pymysql\n",
            "Successfully installed pymysql-1.1.1\n"
          ]
        }
      ]
    },
    {
      "cell_type": "markdown",
      "source": [
        "# EJERCICIOS DE GROUP y HAVING"
      ],
      "metadata": {
        "id": "cVK-sijYVIH5"
      },
      "id": "cVK-sijYVIH5"
    },
    {
      "cell_type": "markdown",
      "metadata": {
        "id": "NsVx4_K4NiXp"
      },
      "source": [
        "## Ejercicio 1: Ventas por Ciudad de distintos insumos informáticos\n",
        "\n",
        "Tienes dos tablas llamadas `Ventas` y `Productos`:\n",
        "\n",
        "- La tabla `Ventas` tiene las siguientes columnas:\n",
        "  - `VentaID` (INT)\n",
        "  - `ProductoID` (INT, FOREIGN KEY que referencia a `Productos(ProductoID)`)\n",
        "  - `CantidadVendida` (INT)\n",
        "  - `PrecioUnitario` (DECIMAL)\n",
        "  - `Ciudad` (VARCHAR)\n",
        "\n",
        "- La tabla `Productos` tiene las siguientes columnas:\n",
        "  - `ProductoID` (INT, PRIMARY KEY)\n",
        "  - `NombreProducto` (VARCHAR)\n",
        "  - `Precio` (DECIMAL)\n",
        "\n",
        "Deseas analizar las ventas por ciudad, combinando la información de ambas tablas para mostrar el nombre de los productos vendidos y el total de ingresos generados por cada ciudad."
      ],
      "id": "NsVx4_K4NiXp"
    },
    {
      "cell_type": "code",
      "execution_count": 11,
      "metadata": {
        "id": "k5xOpu04NiXr",
        "colab": {
          "base_uri": "https://localhost:8080/"
        },
        "outputId": "a33bb88e-5c4c-4ef2-f2c2-8dafd32ef0f2"
      },
      "outputs": [
        {
          "output_type": "stream",
          "name": "stdout",
          "text": [
            " * sqlite:///ejemplos.db\n",
            "Done.\n",
            "Done.\n",
            "Done.\n",
            "Done.\n"
          ]
        },
        {
          "output_type": "execute_result",
          "data": {
            "text/plain": [
              "[]"
            ]
          },
          "metadata": {},
          "execution_count": 11
        }
      ],
      "source": [
        "%%sql\n",
        "-- Escribe aquí el código DDL para crear las tablas Ventas y Productos\n",
        "DROP TABLE IF EXISTS Ventas;\n",
        "DROP TABLE IF EXISTS Productos;\n",
        "\n",
        "CREATE TABLE \"Ventas\" (\n",
        "\t\"ventaID\"\tINTEGER PRIMARY KEY AUTOINCREMENT,\n",
        "\t\"ProductoID\"\tINTEGER,\n",
        "\t\"CantidadVendida\"\tINTEGER,\n",
        "\t\"PrecioUnitario\"\tDECIMAL,\n",
        "\t\"Ciudad\"\tVARCHAR(255),\n",
        "\tFOREIGN KEY (ProductoID) REFERENCES Productos(ProductoID)\n",
        ");\n",
        "CREATE TABLE \"Productos\"(\n",
        "  \"ProductoID\" INTEGER PRIMARY KEY AUTOINCREMENT,\n",
        "  \"NombreProducto\" VARCHAR(255),\n",
        "  \"Precio\" DECIMAL\n",
        ");"
      ],
      "id": "k5xOpu04NiXr"
    },
    {
      "cell_type": "markdown",
      "metadata": {
        "id": "im4yKrVtNiXt"
      },
      "source": [
        "**Rellenado de la tabla Ventas**\n",
        "\n"
      ],
      "id": "im4yKrVtNiXt"
    },
    {
      "cell_type": "code",
      "execution_count": 12,
      "id": "71b6196d",
      "metadata": {
        "id": "71b6196d",
        "colab": {
          "base_uri": "https://localhost:8080/"
        },
        "outputId": "3cf1bb9c-6585-43be-f641-35fa81d25e2c"
      },
      "outputs": [
        {
          "output_type": "stream",
          "name": "stdout",
          "text": [
            " * sqlite:///ejemplos.db\n",
            "1 rows affected.\n",
            "1 rows affected.\n",
            "1 rows affected.\n",
            "1 rows affected.\n",
            "1 rows affected.\n",
            "1 rows affected.\n",
            "1 rows affected.\n",
            "1 rows affected.\n",
            "1 rows affected.\n",
            "1 rows affected.\n",
            "1 rows affected.\n",
            "1 rows affected.\n",
            "1 rows affected.\n",
            "1 rows affected.\n",
            "1 rows affected.\n",
            "1 rows affected.\n",
            "1 rows affected.\n",
            "1 rows affected.\n",
            "1 rows affected.\n",
            "1 rows affected.\n",
            "1 rows affected.\n",
            "1 rows affected.\n",
            "1 rows affected.\n",
            "1 rows affected.\n",
            "1 rows affected.\n",
            "1 rows affected.\n",
            "1 rows affected.\n",
            "1 rows affected.\n",
            "1 rows affected.\n",
            "1 rows affected.\n"
          ]
        },
        {
          "output_type": "execute_result",
          "data": {
            "text/plain": [
              "[]"
            ]
          },
          "metadata": {},
          "execution_count": 12
        }
      ],
      "source": [
        "# Población de la tabla Ventas\n",
        "# Insertar datos en la tabla Ventas\n",
        "%%sql\n",
        "INSERT INTO Ventas (VentaID, ProductoID, CantidadVendida, PrecioUnitario, Ciudad) VALUES (5, 1, 6, 45.00, 'Buenos Aires');\n",
        "INSERT INTO Ventas (VentaID, ProductoID, CantidadVendida, PrecioUnitario, Ciudad) VALUES (6, 12, 9, 35.00, 'Córdoba');\n",
        "INSERT INTO Ventas (VentaID, ProductoID, CantidadVendida, PrecioUnitario, Ciudad) VALUES (7, 2, 4, 20.00, 'Rosario');\n",
        "INSERT INTO Ventas (VentaID, ProductoID, CantidadVendida, PrecioUnitario, Ciudad) VALUES (8, 13, 12, 60.00, 'Mendoza');\n",
        "INSERT INTO Ventas (VentaID, ProductoID, CantidadVendida, PrecioUnitario, Ciudad) VALUES (9, 3, 7, 55.00, 'La Plata');\n",
        "INSERT INTO Ventas (VentaID, ProductoID, CantidadVendida, PrecioUnitario, Ciudad) VALUES (10, 3, 5, 32.50, 'San Miguel de Tucumán');\n",
        "INSERT INTO Ventas (VentaID, ProductoID, CantidadVendida, PrecioUnitario, Ciudad) VALUES (11, 11, 3, 28.00, 'Salta');\n",
        "INSERT INTO Ventas (VentaID, ProductoID, CantidadVendida, PrecioUnitario, Ciudad) VALUES (12, 11, 8, 40.00, 'Mar del Plata');\n",
        "INSERT INTO Ventas (VentaID, ProductoID, CantidadVendida, PrecioUnitario, Ciudad) VALUES (13, 11, 11, 70.00, 'Santa Fe');\n",
        "INSERT INTO Ventas (VentaID, ProductoID, CantidadVendida, PrecioUnitario, Ciudad) VALUES (14, 11, 4, 25.00, 'San Juan');\n",
        "INSERT INTO Ventas (VentaID, ProductoID, CantidadVendida, PrecioUnitario, Ciudad) VALUES (15, 11, 9, 35.00, 'Neuquén');\n",
        "INSERT INTO Ventas (VentaID, ProductoID, CantidadVendida, PrecioUnitario, Ciudad) VALUES (16, 11, 6, 45.00, 'Posadas');\n",
        "INSERT INTO Ventas (VentaID, ProductoID, CantidadVendida, PrecioUnitario, Ciudad) VALUES (17, 13, 10, 50.00, 'Bahía Blanca');\n",
        "INSERT INTO Ventas (VentaID, ProductoID, CantidadVendida, PrecioUnitario, Ciudad) VALUES (18, 11, 12, 65.00, 'San Salvador de Jujuy');\n",
        "INSERT INTO Ventas (VentaID, ProductoID, CantidadVendida, PrecioUnitario, Ciudad) VALUES (19, 15, 3, 22.50, 'Comodoro Rivadavia');\n",
        "\n",
        "INSERT INTO Productos (ProductoID, NombreProducto, Precio) VALUES (1, 'Teclado Mecánico', 75.00);\n",
        "INSERT INTO Productos (ProductoID, NombreProducto, Precio) VALUES (2, 'Mouse Inalámbrico', 45.00);\n",
        "INSERT INTO Productos (ProductoID, NombreProducto, Precio) VALUES (3, 'Monitor 24 Pulgadas', 150.00);\n",
        "INSERT INTO Productos (ProductoID, NombreProducto, Precio) VALUES (4, 'Disco Duro SSD 1TB', 120.00);\n",
        "INSERT INTO Productos (ProductoID, NombreProducto, Precio) VALUES (5, 'Memoria RAM 16GB', 80.00);\n",
        "INSERT INTO Productos (ProductoID, NombreProducto, Precio) VALUES (6, 'Placa Madre ATX', 200.00);\n",
        "INSERT INTO Productos (ProductoID, NombreProducto, Precio) VALUES (7, 'Tarjeta Gráfica 6GB', 350.00);\n",
        "INSERT INTO Productos (ProductoID, NombreProducto, Precio) VALUES (8, 'Auriculares con Micrófono', 60.00);\n",
        "INSERT INTO Productos (ProductoID, NombreProducto, Precio) VALUES (9, 'Cámara Web HD', 55.00);\n",
        "INSERT INTO Productos (ProductoID, NombreProducto, Precio) VALUES (10, 'Micrófono de Condensador', 90.00);\n",
        "INSERT INTO Productos (ProductoID, NombreProducto, Precio) VALUES (11, 'Router WiFi 6', 130.00);\n",
        "INSERT INTO Productos (ProductoID, NombreProducto, Precio) VALUES (12, 'Impresora Láser', 180.00);\n",
        "INSERT INTO Productos (ProductoID, NombreProducto, Precio) VALUES (13, 'Soporte Monitor Ajustable', 25.00);\n",
        "INSERT INTO Productos (ProductoID, NombreProducto, Precio) VALUES (14, 'Teclado Inalámbrico', 50.00);\n",
        "INSERT INTO Productos (ProductoID, NombreProducto, Precio) VALUES (15, 'Mouse Gaming', 40.00);\n",
        "\n"
      ]
    },
    {
      "cell_type": "markdown",
      "metadata": {
        "id": "622zROEDNiXt"
      },
      "source": [
        "**Consignas del ejercicio:**\n",
        "\n",
        "1. Encuentre el total de ingresos (`CantidadVendida * PrecioUnitario`) por cada ciudad.\n"
      ],
      "id": "622zROEDNiXt"
    },
    {
      "cell_type": "code",
      "execution_count": 13,
      "metadata": {
        "id": "zuIw9B9UNiXu",
        "colab": {
          "base_uri": "https://localhost:8080/",
          "height": 397
        },
        "outputId": "f5a6c8a7-f9c4-4b5b-b588-71355b374b47"
      },
      "outputs": [
        {
          "output_type": "stream",
          "name": "stdout",
          "text": [
            " * sqlite:///ejemplos.db\n",
            "Done.\n"
          ]
        },
        {
          "output_type": "execute_result",
          "data": {
            "text/plain": [
              "[('Bahía Blanca', 500),\n",
              " ('Buenos Aires', 270),\n",
              " ('Comodoro Rivadavia', 67.5),\n",
              " ('Córdoba', 315),\n",
              " ('La Plata', 385),\n",
              " ('Mar del Plata', 320),\n",
              " ('Mendoza', 720),\n",
              " ('Neuquén', 315),\n",
              " ('Posadas', 270),\n",
              " ('Rosario', 80),\n",
              " ('Salta', 84),\n",
              " ('San Juan', 100),\n",
              " ('San Miguel de Tucumán', 162.5),\n",
              " ('San Salvador de Jujuy', 780),\n",
              " ('Santa Fe', 770)]"
            ],
            "text/html": [
              "<table>\n",
              "    <thead>\n",
              "        <tr>\n",
              "            <th>Ciudad</th>\n",
              "            <th>TotalIngresos</th>\n",
              "        </tr>\n",
              "    </thead>\n",
              "    <tbody>\n",
              "        <tr>\n",
              "            <td>Bahía Blanca</td>\n",
              "            <td>500</td>\n",
              "        </tr>\n",
              "        <tr>\n",
              "            <td>Buenos Aires</td>\n",
              "            <td>270</td>\n",
              "        </tr>\n",
              "        <tr>\n",
              "            <td>Comodoro Rivadavia</td>\n",
              "            <td>67.5</td>\n",
              "        </tr>\n",
              "        <tr>\n",
              "            <td>Córdoba</td>\n",
              "            <td>315</td>\n",
              "        </tr>\n",
              "        <tr>\n",
              "            <td>La Plata</td>\n",
              "            <td>385</td>\n",
              "        </tr>\n",
              "        <tr>\n",
              "            <td>Mar del Plata</td>\n",
              "            <td>320</td>\n",
              "        </tr>\n",
              "        <tr>\n",
              "            <td>Mendoza</td>\n",
              "            <td>720</td>\n",
              "        </tr>\n",
              "        <tr>\n",
              "            <td>Neuquén</td>\n",
              "            <td>315</td>\n",
              "        </tr>\n",
              "        <tr>\n",
              "            <td>Posadas</td>\n",
              "            <td>270</td>\n",
              "        </tr>\n",
              "        <tr>\n",
              "            <td>Rosario</td>\n",
              "            <td>80</td>\n",
              "        </tr>\n",
              "        <tr>\n",
              "            <td>Salta</td>\n",
              "            <td>84</td>\n",
              "        </tr>\n",
              "        <tr>\n",
              "            <td>San Juan</td>\n",
              "            <td>100</td>\n",
              "        </tr>\n",
              "        <tr>\n",
              "            <td>San Miguel de Tucumán</td>\n",
              "            <td>162.5</td>\n",
              "        </tr>\n",
              "        <tr>\n",
              "            <td>San Salvador de Jujuy</td>\n",
              "            <td>780</td>\n",
              "        </tr>\n",
              "        <tr>\n",
              "            <td>Santa Fe</td>\n",
              "            <td>770</td>\n",
              "        </tr>\n",
              "    </tbody>\n",
              "</table>"
            ]
          },
          "metadata": {},
          "execution_count": 13
        }
      ],
      "source": [
        "%%sql\n",
        "SELECT Ventas.Ciudad, sum(Ventas.CantidadVendida*Ventas.PrecioUnitario) as TotalIngresos\n",
        "FROM Ventas\n",
        "GROUP BY Ventas.Ciudad;"
      ],
      "id": "zuIw9B9UNiXu"
    },
    {
      "cell_type": "markdown",
      "id": "b96bb132",
      "metadata": {
        "id": "b96bb132"
      },
      "source": [
        "2. Escriba el código SQL para listar las Ciudades cuyo total de ingresos supera los $500."
      ]
    },
    {
      "cell_type": "code",
      "execution_count": 14,
      "metadata": {
        "id": "ACqNMaDGNiXu",
        "colab": {
          "base_uri": "https://localhost:8080/",
          "height": 140
        },
        "outputId": "f143cae4-2cdc-49de-82d0-386513d4a564"
      },
      "outputs": [
        {
          "output_type": "stream",
          "name": "stdout",
          "text": [
            " * sqlite:///ejemplos.db\n",
            "Done.\n"
          ]
        },
        {
          "output_type": "execute_result",
          "data": {
            "text/plain": [
              "[('Mendoza', 720), ('San Salvador de Jujuy', 780), ('Santa Fe', 770)]"
            ],
            "text/html": [
              "<table>\n",
              "    <thead>\n",
              "        <tr>\n",
              "            <th>Ciudad</th>\n",
              "            <th>TotalIngresos</th>\n",
              "        </tr>\n",
              "    </thead>\n",
              "    <tbody>\n",
              "        <tr>\n",
              "            <td>Mendoza</td>\n",
              "            <td>720</td>\n",
              "        </tr>\n",
              "        <tr>\n",
              "            <td>San Salvador de Jujuy</td>\n",
              "            <td>780</td>\n",
              "        </tr>\n",
              "        <tr>\n",
              "            <td>Santa Fe</td>\n",
              "            <td>770</td>\n",
              "        </tr>\n",
              "    </tbody>\n",
              "</table>"
            ]
          },
          "metadata": {},
          "execution_count": 14
        }
      ],
      "source": [
        "%%sql\n",
        "SELECT Ventas.Ciudad, SUM(Ventas.CantidadVendida*Ventas.PrecioUnitario) AS TotalIngresos\n",
        "FROM Ventas\n",
        "GROUP BY Ventas.Ciudad\n",
        "HAVING TotalIngresos > 500;"
      ],
      "id": "ACqNMaDGNiXu"
    },
    {
      "cell_type": "markdown",
      "id": "7a6a43fe",
      "metadata": {
        "id": "7a6a43fe"
      },
      "source": [
        "3. Modifique la consulta del inciso 2 para ordenar las Ciudades de mayor a menor ingreso total."
      ]
    },
    {
      "cell_type": "code",
      "execution_count": 8,
      "metadata": {
        "id": "kzhBe0qENiXv",
        "colab": {
          "base_uri": "https://localhost:8080/",
          "height": 140
        },
        "outputId": "2f72fb02-f35a-42e8-8e92-df3398653de3"
      },
      "outputs": [
        {
          "output_type": "stream",
          "name": "stdout",
          "text": [
            " * sqlite:///ejemplos.db\n",
            "Done.\n"
          ]
        },
        {
          "output_type": "execute_result",
          "data": {
            "text/plain": [
              "[('San Salvador de Jujuy', 780.0), ('Santa Fe', 770.0), ('Mendoza', 720.0)]"
            ],
            "text/html": [
              "<table>\n",
              "    <thead>\n",
              "        <tr>\n",
              "            <th>Ciudad</th>\n",
              "            <th>TotalIngresos</th>\n",
              "        </tr>\n",
              "    </thead>\n",
              "    <tbody>\n",
              "        <tr>\n",
              "            <td>San Salvador de Jujuy</td>\n",
              "            <td>780.0</td>\n",
              "        </tr>\n",
              "        <tr>\n",
              "            <td>Santa Fe</td>\n",
              "            <td>770.0</td>\n",
              "        </tr>\n",
              "        <tr>\n",
              "            <td>Mendoza</td>\n",
              "            <td>720.0</td>\n",
              "        </tr>\n",
              "    </tbody>\n",
              "</table>"
            ]
          },
          "metadata": {},
          "execution_count": 8
        }
      ],
      "source": [
        "%%sql\n",
        "SELECT Ventas.Ciudad, sum(Ventas.CantidadVendida*Ventas.PrecioUnitario) AS TotalIngresos\n",
        "FROM Ventas\n",
        "GROUP BY Ventas.Ciudad\n",
        "HAVING TotalIngresos > 500\n",
        "ORDER BY TotalIngresos DESC;\n"
      ],
      "id": "kzhBe0qENiXv"
    },
    {
      "cell_type": "markdown",
      "metadata": {
        "id": "fRufPLTENiXv"
      },
      "source": [
        "## Ejercicio 2: Promedio de Calificaciones por Curso\n",
        "\n",
        "Considera las siguientes tres tablas:\n",
        "\n",
        "- La tabla **Estudiantes** contiene información sobre los estudiantes inscritos:\n",
        "  - `EstudianteID` (INT, PRIMARY KEY)\n",
        "  - `Nombre` (VARCHAR)\n",
        "\n",
        "- La tabla **Cursos** contiene información sobre los cursos disponibles:\n",
        "  - `CursoID` (INT, PRIMARY KEY)\n",
        "  - `NombreCurso` (VARCHAR)\n",
        "\n",
        "- La tabla **Calificaciones** registra las notas de los estudiantes en los cursos:\n",
        "  - `CalificacionID` (INT, PRIMARY KEY)\n",
        "  - `EstudianteID` (INT, FOREIGN KEY que referencia a `Estudiantes(EstudianteID)`)\n",
        "  - `CursoID` (INT, FOREIGN KEY que referencia a `Cursos(CursoID)`)\n",
        "  - `Nota` (DECIMAL)\n",
        "\n",
        "En este ejercicio, debes analizar el rendimiento de los estudiantes en cada curso, combinando la información de las tres tablas."
      ],
      "id": "fRufPLTENiXv"
    },
    {
      "cell_type": "code",
      "execution_count": 15,
      "metadata": {
        "id": "xd4jJS-oNiXv",
        "colab": {
          "base_uri": "https://localhost:8080/"
        },
        "outputId": "54b5d00b-57d3-4a81-a275-c2fea2a25a8c"
      },
      "outputs": [
        {
          "output_type": "stream",
          "name": "stdout",
          "text": [
            " * sqlite:///ejemplos.db\n",
            "Done.\n",
            "Done.\n",
            "Done.\n",
            "Done.\n",
            "Done.\n",
            "Done.\n"
          ]
        },
        {
          "output_type": "execute_result",
          "data": {
            "text/plain": [
              "[]"
            ]
          },
          "metadata": {},
          "execution_count": 15
        }
      ],
      "source": [
        "%%sql\n",
        "-- Escribe aquí el código DDL para crear las tablas Estudiantes, Cursos y Calificaciones\n",
        "DROP TABLE IF EXISTS \"Estudiantes\";\n",
        "DROP TABLE IF EXISTS \"Cursos\";\n",
        "DROP TABLE IF EXISTS \"Calificaciones\";\n",
        "CREATE TABLE \"Estudiantes\"(\n",
        "  \"EstudianteID\" INTEGER PRIMARY KEY AUTOINCREMENT,\n",
        "  \"Nombre\" VARCHAR(255)\n",
        ");\n",
        "CREATE TABLE \"Cursos\"(\n",
        "  \"CursoID\" INTEGER PRIMARY KEY AUTOINCREMENT,\n",
        "  \"NombreCurso\" VARCHAR(255)\n",
        ");\n",
        "CREATE TABLE \"Calificaciones\"(\n",
        "  \"CalificacionID\" INTEGER PRIMARY KEY AUTOINCREMENT,\n",
        "  \"EstudianteID\" INTEGER,\n",
        "  \"CursoID\" INTEGER,\n",
        "  \"Nota\" DECIMAL,\n",
        "  FOREIGN KEY(EstudianteID) REFERENCES Estudiantes(EstudianteID),\n",
        "  FOREIGN KEY(CursoID) REFERENCES Cursos(CursoID)\n",
        ");"
      ],
      "id": "xd4jJS-oNiXv"
    },
    {
      "cell_type": "markdown",
      "metadata": {
        "id": "urovVyAXNiXw"
      },
      "source": [
        "**Población de la tabla Calificaciones**\n",
        "\n"
      ],
      "id": "urovVyAXNiXw"
    },
    {
      "cell_type": "code",
      "execution_count": 16,
      "metadata": {
        "id": "fqMJXxAUNiXw",
        "colab": {
          "base_uri": "https://localhost:8080/"
        },
        "outputId": "91174f5f-0508-421d-d116-e87ab5e507a4"
      },
      "outputs": [
        {
          "output_type": "stream",
          "name": "stdout",
          "text": [
            " * sqlite:///ejemplos.db\n",
            "1 rows affected.\n",
            "1 rows affected.\n",
            "1 rows affected.\n",
            "1 rows affected.\n",
            "1 rows affected.\n",
            "1 rows affected.\n",
            "1 rows affected.\n",
            "1 rows affected.\n",
            "1 rows affected.\n",
            "1 rows affected.\n",
            "1 rows affected.\n",
            "1 rows affected.\n",
            "1 rows affected.\n",
            "1 rows affected.\n",
            "1 rows affected.\n",
            "1 rows affected.\n",
            "1 rows affected.\n",
            "1 rows affected.\n",
            "1 rows affected.\n",
            "1 rows affected.\n",
            "1 rows affected.\n",
            "1 rows affected.\n",
            "1 rows affected.\n",
            "1 rows affected.\n",
            "1 rows affected.\n",
            "1 rows affected.\n",
            "1 rows affected.\n",
            "1 rows affected.\n",
            "1 rows affected.\n",
            "1 rows affected.\n"
          ]
        },
        {
          "output_type": "execute_result",
          "data": {
            "text/plain": [
              "[]"
            ]
          },
          "metadata": {},
          "execution_count": 16
        }
      ],
      "source": [
        "# Insertar datos en la tabla Calificaciones\n",
        "%%sql\n",
        "\n",
        "INSERT INTO Estudiantes (EstudianteID, Nombre) VALUES (1001, 'Carlos');\n",
        "INSERT INTO Estudiantes (EstudianteID, Nombre) VALUES (1002, 'Maria');\n",
        "INSERT INTO Estudiantes (EstudianteID, Nombre) VALUES (1003, 'Juan');\n",
        "INSERT INTO Estudiantes (EstudianteID, Nombre) VALUES (1004, 'Ana');\n",
        "INSERT INTO Estudiantes (EstudianteID, Nombre) VALUES (1005, 'Luis');\n",
        "INSERT INTO Estudiantes (EstudianteID, Nombre) VALUES (1006, 'Sofia');\n",
        "INSERT INTO Estudiantes (EstudianteID, Nombre) VALUES (1007, 'Diego');\n",
        "INSERT INTO Estudiantes (EstudianteID, Nombre) VALUES (1008, 'Laura');\n",
        "INSERT INTO Estudiantes (EstudianteID, Nombre) VALUES (1009, 'Javier');\n",
        "INSERT INTO Estudiantes (EstudianteID, Nombre) VALUES (1010, 'Fernanda');\n",
        "\n",
        "INSERT INTO Cursos (CursoID, NombreCurso) VALUES (201, 'Matemáticas');\n",
        "INSERT INTO Cursos (CursoID, NombreCurso) VALUES (202, 'Historia');\n",
        "INSERT INTO Cursos (CursoID, NombreCurso) VALUES (203, 'Ciencias');\n",
        "INSERT INTO Cursos (CursoID, NombreCurso) VALUES (204, 'Literatura');\n",
        "INSERT INTO Cursos (CursoID, NombreCurso) VALUES (205, 'Geografía');\n",
        "\n",
        "INSERT INTO Calificaciones (CalificacionID, EstudianteID, CursoID, Nota) VALUES (1, 1001, 201, 88.5);\n",
        "INSERT INTO Calificaciones (CalificacionID, EstudianteID, CursoID, Nota) VALUES (2, 1002, 202, 92.0);\n",
        "INSERT INTO Calificaciones (CalificacionID, EstudianteID, CursoID, Nota) VALUES (3, 1003, 201, 81.0);\n",
        "INSERT INTO Calificaciones (CalificacionID, EstudianteID, CursoID, Nota) VALUES (4, 1004, 203, 79.5);\n",
        "INSERT INTO Calificaciones (CalificacionID, EstudianteID, CursoID, Nota) VALUES (5, 1005, 202, 84.0);\n",
        "INSERT INTO Calificaciones (CalificacionID, EstudianteID, CursoID, Nota) VALUES (6, 1006, 204, 91.5);\n",
        "INSERT INTO Calificaciones (CalificacionID, EstudianteID, CursoID, Nota) VALUES (7, 1007, 205, 75.5);\n",
        "INSERT INTO Calificaciones (CalificacionID, EstudianteID, CursoID, Nota) VALUES (8, 1008, 204, 87.0);\n",
        "INSERT INTO Calificaciones (CalificacionID, EstudianteID, CursoID, Nota) VALUES (9, 1009, 203, 82.5);\n",
        "INSERT INTO Calificaciones (CalificacionID, EstudianteID, CursoID, Nota) VALUES (10, 1010, 205, 78.0);\n",
        "INSERT INTO Calificaciones (CalificacionID, EstudianteID, CursoID, Nota) VALUES (11, 1002, 201, 90.0);\n",
        "INSERT INTO Calificaciones (CalificacionID, EstudianteID, CursoID, Nota) VALUES (12, 1006, 202, 88.0);\n",
        "INSERT INTO Calificaciones (CalificacionID, EstudianteID, CursoID, Nota) VALUES (13, 1003, 203, 85.0);\n",
        "INSERT INTO Calificaciones (CalificacionID, EstudianteID, CursoID, Nota) VALUES (14, 1007, 201, 80.5);\n",
        "INSERT INTO Calificaciones (CalificacionID, EstudianteID, CursoID, Nota) VALUES (15, 1005, 204, 89.5);\n"
      ],
      "id": "fqMJXxAUNiXw"
    },
    {
      "cell_type": "markdown",
      "metadata": {
        "id": "fxLxg4M1NiXw"
      },
      "source": [
        "**Consignas del ejercicio:**\n",
        "\n",
        "1. Encuentre el promedio de `Nota` para cada `Curso`."
      ],
      "id": "fxLxg4M1NiXw"
    },
    {
      "cell_type": "code",
      "execution_count": 17,
      "metadata": {
        "id": "zMGp3kBgNiXw",
        "colab": {
          "base_uri": "https://localhost:8080/",
          "height": 183
        },
        "outputId": "6ca06727-228d-42c2-c314-ed0cdac872c7"
      },
      "outputs": [
        {
          "output_type": "stream",
          "name": "stdout",
          "text": [
            " * sqlite:///ejemplos.db\n",
            "Done.\n"
          ]
        },
        {
          "output_type": "execute_result",
          "data": {
            "text/plain": [
              "[(82.33333333333333, 'Ciencias'),\n",
              " (76.75, 'Geografía'),\n",
              " (88.0, 'Historia'),\n",
              " (89.33333333333333, 'Literatura'),\n",
              " (85.0, 'Matemáticas')]"
            ],
            "text/html": [
              "<table>\n",
              "    <thead>\n",
              "        <tr>\n",
              "            <th>PromedioNota</th>\n",
              "            <th>NombreCurso</th>\n",
              "        </tr>\n",
              "    </thead>\n",
              "    <tbody>\n",
              "        <tr>\n",
              "            <td>82.33333333333333</td>\n",
              "            <td>Ciencias</td>\n",
              "        </tr>\n",
              "        <tr>\n",
              "            <td>76.75</td>\n",
              "            <td>Geografía</td>\n",
              "        </tr>\n",
              "        <tr>\n",
              "            <td>88.0</td>\n",
              "            <td>Historia</td>\n",
              "        </tr>\n",
              "        <tr>\n",
              "            <td>89.33333333333333</td>\n",
              "            <td>Literatura</td>\n",
              "        </tr>\n",
              "        <tr>\n",
              "            <td>85.0</td>\n",
              "            <td>Matemáticas</td>\n",
              "        </tr>\n",
              "    </tbody>\n",
              "</table>"
            ]
          },
          "metadata": {},
          "execution_count": 17
        }
      ],
      "source": [
        "%%sql\n",
        "SELECT AVG(Calificaciones.Nota) AS PromedioNota, Cursos.NombreCurso\n",
        "FROM Calificaciones\n",
        "JOIN Cursos ON Calificaciones.CursoID = Cursos.CursoID\n",
        "GROUP BY Cursos.NombreCurso;\n"
      ],
      "id": "zMGp3kBgNiXw"
    },
    {
      "cell_type": "markdown",
      "id": "722c022c",
      "metadata": {
        "id": "722c022c"
      },
      "source": [
        "2. Escriba el código SQL para listar los cursos con un promedio mayor a 85."
      ]
    },
    {
      "cell_type": "code",
      "execution_count": 18,
      "metadata": {
        "id": "w_YVVudPNiXx",
        "colab": {
          "base_uri": "https://localhost:8080/",
          "height": 119
        },
        "outputId": "db1a7b35-db4e-43fc-af02-946069823962"
      },
      "outputs": [
        {
          "output_type": "stream",
          "name": "stdout",
          "text": [
            " * sqlite:///ejemplos.db\n",
            "Done.\n"
          ]
        },
        {
          "output_type": "execute_result",
          "data": {
            "text/plain": [
              "[(88.0, 'Historia'), (89.33333333333333, 'Literatura')]"
            ],
            "text/html": [
              "<table>\n",
              "    <thead>\n",
              "        <tr>\n",
              "            <th>PromedioNota</th>\n",
              "            <th>NombreCurso</th>\n",
              "        </tr>\n",
              "    </thead>\n",
              "    <tbody>\n",
              "        <tr>\n",
              "            <td>88.0</td>\n",
              "            <td>Historia</td>\n",
              "        </tr>\n",
              "        <tr>\n",
              "            <td>89.33333333333333</td>\n",
              "            <td>Literatura</td>\n",
              "        </tr>\n",
              "    </tbody>\n",
              "</table>"
            ]
          },
          "metadata": {},
          "execution_count": 18
        }
      ],
      "source": [
        "%%sql\n",
        "SELECT AVG(Calificaciones.Nota) AS PromedioNota, Cursos.NombreCurso\n",
        "FROM Calificaciones\n",
        "JOIN Cursos ON Calificaciones.CursoID = Cursos.CursoID\n",
        "GROUP BY Cursos.NombreCurso\n",
        "HAVING PromedioNota > 85;\n"
      ],
      "id": "w_YVVudPNiXx"
    },
    {
      "cell_type": "markdown",
      "id": "04841eea",
      "metadata": {
        "id": "04841eea"
      },
      "source": [
        "\n",
        "3. Agregue una columna que muestre el número de estudiantes que han tomado cada curso cuyo promedio supera 85, ordenados en forma descendente por promedio."
      ]
    },
    {
      "cell_type": "code",
      "execution_count": 19,
      "metadata": {
        "id": "TBh31bsgNiXx",
        "colab": {
          "base_uri": "https://localhost:8080/",
          "height": 119
        },
        "outputId": "3bb263a0-da51-420b-9c05-30d9c24191d4"
      },
      "outputs": [
        {
          "output_type": "stream",
          "name": "stdout",
          "text": [
            " * sqlite:///ejemplos.db\n",
            "Done.\n"
          ]
        },
        {
          "output_type": "execute_result",
          "data": {
            "text/plain": [
              "[(89.33333333333333, 'Literatura', 3), (88.0, 'Historia', 3)]"
            ],
            "text/html": [
              "<table>\n",
              "    <thead>\n",
              "        <tr>\n",
              "            <th>PromedioNota</th>\n",
              "            <th>NombreCurso</th>\n",
              "            <th>NumeroEstudiantes</th>\n",
              "        </tr>\n",
              "    </thead>\n",
              "    <tbody>\n",
              "        <tr>\n",
              "            <td>89.33333333333333</td>\n",
              "            <td>Literatura</td>\n",
              "            <td>3</td>\n",
              "        </tr>\n",
              "        <tr>\n",
              "            <td>88.0</td>\n",
              "            <td>Historia</td>\n",
              "            <td>3</td>\n",
              "        </tr>\n",
              "    </tbody>\n",
              "</table>"
            ]
          },
          "metadata": {},
          "execution_count": 19
        }
      ],
      "source": [
        "%%sql\n",
        "SELECT AVG(Calificaciones.Nota) AS PromedioNota, Cursos.NombreCurso, COUNT(EstudianteID) AS NumeroEstudiantes\n",
        "FROM Calificaciones\n",
        "JOIN Cursos ON Calificaciones.CursoID = Cursos.CursoID\n",
        "GROUP BY Cursos.NombreCurso\n",
        "HAVING PromedioNota > 85\n",
        "ORDER BY PromedioNota DESC;\n"
      ],
      "id": "TBh31bsgNiXx"
    },
    {
      "cell_type": "markdown",
      "metadata": {
        "id": "ReFeNTPaNiXx"
      },
      "source": [
        "## Ejercicio 3: Conteo de Empleados por Departamento\n",
        "\n",
        "Tienes dos tablas llamadas `Empleados` y `Departamentos`:\n",
        "\n",
        "- La tabla `Empleados` tiene las siguientes columnas:\n",
        "  - `EmpleadoID` (INT)\n",
        "  - `Nombre` (VARCHAR)\n",
        "  - `DepartamentoID` (INT, FOREIGN KEY que referencia a `Departamentos(DepartamentoID)`)\n",
        "  - `Salario` (DECIMAL)\n",
        "\n",
        "- La tabla `Departamentos` tiene las siguientes columnas:\n",
        "  - `DepartamentoID` (INT, PRIMARY KEY)\n",
        "  - `NombreDepartamento` (VARCHAR)\n",
        "\n",
        "Deseas analizar la distribución de empleados en cada departamento, combinando la información de ambas tablas para mostrar el nombre del departamento y el número de empleados por cada uno.\n",
        "\n",
        "**Consignas a responder:**\n",
        "\n"
      ],
      "id": "ReFeNTPaNiXx"
    },
    {
      "cell_type": "code",
      "execution_count": 21,
      "metadata": {
        "id": "TM-JwO9TNiXy",
        "colab": {
          "base_uri": "https://localhost:8080/"
        },
        "outputId": "d038e8a3-a175-48bb-8886-5ac2c6a16979"
      },
      "outputs": [
        {
          "output_type": "stream",
          "name": "stdout",
          "text": [
            " * sqlite:///ejemplos.db\n",
            "Done.\n",
            "Done.\n",
            "Done.\n",
            "Done.\n"
          ]
        },
        {
          "output_type": "execute_result",
          "data": {
            "text/plain": [
              "[]"
            ]
          },
          "metadata": {},
          "execution_count": 21
        }
      ],
      "source": [
        "%%sql\n",
        "DROP TABLE IF EXISTS \"Empleados\";\n",
        "DROP TABLE IF EXISTS \"Departamentos\";\n",
        "CREATE TABLE \"Empleados\"(\n",
        "  \"EmpleadoID\" INTEGER PRIMARY KEY AUTOINCREMENT,\n",
        "  \"Nombre\" VARCHAR,\n",
        "  \"DepartamentoID\" INTEGER,\n",
        "  \"Salario\" DECIMAL,\n",
        "  FOREIGN KEY (DepartamentoID) REFERENCES Departamentos(DepartamentoID)\n",
        ");\n",
        "CREATE TABLE \"Departamentos\"(\n",
        "  \"DepartamentoID\" INTEGER PRIMARY KEY AUTOINCREMENT,\n",
        "  \"NombreDepartamento\" VARCHAR\n",
        ");"
      ],
      "id": "TM-JwO9TNiXy"
    },
    {
      "cell_type": "markdown",
      "metadata": {
        "id": "50OKu9KYNiXy"
      },
      "source": [
        "**Relleno de las tablas `Empleados` y `Departamentos`**\n",
        "\n"
      ],
      "id": "50OKu9KYNiXy"
    },
    {
      "cell_type": "code",
      "execution_count": 22,
      "metadata": {
        "id": "6GvQ-IV1NiXy",
        "colab": {
          "base_uri": "https://localhost:8080/"
        },
        "outputId": "5dd44a87-cfcb-444e-943b-abc9746fa46f"
      },
      "outputs": [
        {
          "output_type": "stream",
          "name": "stdout",
          "text": [
            " * sqlite:///ejemplos.db\n",
            "1 rows affected.\n",
            "1 rows affected.\n",
            "1 rows affected.\n",
            "1 rows affected.\n",
            "1 rows affected.\n",
            "1 rows affected.\n",
            "1 rows affected.\n",
            "1 rows affected.\n",
            "1 rows affected.\n",
            "1 rows affected.\n",
            "1 rows affected.\n",
            "1 rows affected.\n",
            "1 rows affected.\n",
            "1 rows affected.\n",
            "1 rows affected.\n",
            "1 rows affected.\n",
            "1 rows affected.\n"
          ]
        },
        {
          "output_type": "execute_result",
          "data": {
            "text/plain": [
              "[]"
            ]
          },
          "metadata": {},
          "execution_count": 22
        }
      ],
      "source": [
        "%%sql\n",
        "INSERT INTO Empleados (EmpleadoID, Nombre, DepartamentoID, Salario) VALUES (5, 'Laura', 101, 3100);\n",
        "INSERT INTO Empleados (EmpleadoID, Nombre, DepartamentoID, Salario) VALUES (6, 'Javier', 104, 3300);\n",
        "INSERT INTO Empleados (EmpleadoID, Nombre, DepartamentoID, Salario) VALUES (7, 'Sofia', 105, 2900);\n",
        "INSERT INTO Empleados (EmpleadoID, Nombre, DepartamentoID, Salario) VALUES (8, 'Lucas', 105, 3700);\n",
        "INSERT INTO Empleados (EmpleadoID, Nombre, DepartamentoID, Salario) VALUES (9, 'Fernanda', 101, 3200);\n",
        "INSERT INTO Empleados (EmpleadoID, Nombre, DepartamentoID, Salario) VALUES (10, 'Diego', 104, 3400);\n",
        "INSERT INTO Empleados (EmpleadoID, Nombre, DepartamentoID, Salario) VALUES (11, 'Martina', 103, 4000);\n",
        "INSERT INTO Empleados (EmpleadoID, Nombre, DepartamentoID, Salario) VALUES (12, 'Gustavo', 105, 2950);\n",
        "INSERT INTO Empleados (EmpleadoID, Nombre, DepartamentoID, Salario) VALUES (13, 'Liliana', 106, 3800);\n",
        "INSERT INTO Empleados (EmpleadoID, Nombre, DepartamentoID, Salario) VALUES (14, 'Gabriel', 106, 4100);\n",
        "INSERT INTO Empleados (EmpleadoID, Nombre, DepartamentoID, Salario) VALUES (15, 'Natalia', 102, 3600);\n",
        "\n",
        "INSERT INTO Departamentos (DepartamentoID, NombreDepartamento) VALUES (101, 'Marketing');\n",
        "INSERT INTO Departamentos (DepartamentoID, NombreDepartamento) VALUES (102, 'Ventas');\n",
        "INSERT INTO Departamentos (DepartamentoID, NombreDepartamento) VALUES (103, 'Recursos Humanos');\n",
        "INSERT INTO Departamentos (DepartamentoID, NombreDepartamento) VALUES (104, 'Desarrollo de Producto');\n",
        "INSERT INTO Departamentos (DepartamentoID, NombreDepartamento) VALUES (105, 'Investigación de Mercado');\n",
        "INSERT INTO Departamentos (DepartamentoID, NombreDepartamento) VALUES (106, 'Atención al Cliente');\n"
      ],
      "id": "6GvQ-IV1NiXy"
    },
    {
      "cell_type": "markdown",
      "metadata": {
        "id": "Oy_3JkD3NiXy"
      },
      "source": [
        "**Consignas del ejercicio:**\n",
        "\n",
        "1. Encuentre el número total de empleados en cada departamento.\n"
      ],
      "id": "Oy_3JkD3NiXy"
    },
    {
      "cell_type": "code",
      "execution_count": 23,
      "metadata": {
        "id": "Z9-3BGMFNiXy",
        "colab": {
          "base_uri": "https://localhost:8080/",
          "height": 204
        },
        "outputId": "f7fb72fe-80a9-4cba-fac8-6833bb6169e7"
      },
      "outputs": [
        {
          "output_type": "stream",
          "name": "stdout",
          "text": [
            " * sqlite:///ejemplos.db\n",
            "Done.\n"
          ]
        },
        {
          "output_type": "execute_result",
          "data": {
            "text/plain": [
              "[(2, 'Atención al Cliente'),\n",
              " (2, 'Desarrollo de Producto'),\n",
              " (3, 'Investigación de Mercado'),\n",
              " (2, 'Marketing'),\n",
              " (1, 'Recursos Humanos'),\n",
              " (1, 'Ventas')]"
            ],
            "text/html": [
              "<table>\n",
              "    <thead>\n",
              "        <tr>\n",
              "            <th>CantidadEmpleados</th>\n",
              "            <th>NombreDepartamento</th>\n",
              "        </tr>\n",
              "    </thead>\n",
              "    <tbody>\n",
              "        <tr>\n",
              "            <td>2</td>\n",
              "            <td>Atención al Cliente</td>\n",
              "        </tr>\n",
              "        <tr>\n",
              "            <td>2</td>\n",
              "            <td>Desarrollo de Producto</td>\n",
              "        </tr>\n",
              "        <tr>\n",
              "            <td>3</td>\n",
              "            <td>Investigación de Mercado</td>\n",
              "        </tr>\n",
              "        <tr>\n",
              "            <td>2</td>\n",
              "            <td>Marketing</td>\n",
              "        </tr>\n",
              "        <tr>\n",
              "            <td>1</td>\n",
              "            <td>Recursos Humanos</td>\n",
              "        </tr>\n",
              "        <tr>\n",
              "            <td>1</td>\n",
              "            <td>Ventas</td>\n",
              "        </tr>\n",
              "    </tbody>\n",
              "</table>"
            ]
          },
          "metadata": {},
          "execution_count": 23
        }
      ],
      "source": [
        "%%sql\n",
        "SELECT COUNT (Empleados.DepartamentoID) AS CantidadEmpleados, Departamentos.NombreDepartamento FROM Empleados\n",
        "JOIN Departamentos ON Departamentos.DepartamentoID = Empleados.DepartamentoID\n",
        "GROUP BY Departamentos.NombreDepartamento;"
      ],
      "id": "Z9-3BGMFNiXy"
    },
    {
      "cell_type": "markdown",
      "id": "dd365a64",
      "metadata": {
        "id": "dd365a64"
      },
      "source": [
        "2. Escriba el código SQL para listar los departamentos que tienen más de 2 empleados."
      ]
    },
    {
      "cell_type": "code",
      "execution_count": 24,
      "metadata": {
        "id": "UYodiO03NiXy",
        "colab": {
          "base_uri": "https://localhost:8080/",
          "height": 162
        },
        "outputId": "3155b0a1-d0a1-4251-e198-3839e57545b1"
      },
      "outputs": [
        {
          "output_type": "stream",
          "name": "stdout",
          "text": [
            " * sqlite:///ejemplos.db\n",
            "Done.\n"
          ]
        },
        {
          "output_type": "execute_result",
          "data": {
            "text/plain": [
              "[(2, 'Atención al Cliente'),\n",
              " (2, 'Desarrollo de Producto'),\n",
              " (3, 'Investigación de Mercado'),\n",
              " (2, 'Marketing')]"
            ],
            "text/html": [
              "<table>\n",
              "    <thead>\n",
              "        <tr>\n",
              "            <th>CantidadEmpleados</th>\n",
              "            <th>NombreDepartamento</th>\n",
              "        </tr>\n",
              "    </thead>\n",
              "    <tbody>\n",
              "        <tr>\n",
              "            <td>2</td>\n",
              "            <td>Atención al Cliente</td>\n",
              "        </tr>\n",
              "        <tr>\n",
              "            <td>2</td>\n",
              "            <td>Desarrollo de Producto</td>\n",
              "        </tr>\n",
              "        <tr>\n",
              "            <td>3</td>\n",
              "            <td>Investigación de Mercado</td>\n",
              "        </tr>\n",
              "        <tr>\n",
              "            <td>2</td>\n",
              "            <td>Marketing</td>\n",
              "        </tr>\n",
              "    </tbody>\n",
              "</table>"
            ]
          },
          "metadata": {},
          "execution_count": 24
        }
      ],
      "source": [
        "%%sql\n",
        "SELECT COUNT (Empleados.DepartamentoID) AS CantidadEmpleados, Departamentos.NombreDepartamento FROM Empleados\n",
        "JOIN Departamentos ON Departamentos.DepartamentoID = Empleados.DepartamentoID\n",
        "GROUP BY Departamentos.NombreDepartamento\n",
        "HAVING CantidadEmpleados>=2;"
      ],
      "id": "UYodiO03NiXy"
    },
    {
      "cell_type": "markdown",
      "id": "67a157bb",
      "metadata": {
        "id": "67a157bb"
      },
      "source": [
        "\n",
        "3. Muestre el salario promedio de los empleados por cada departamento ordenados promedio en forma descendente."
      ]
    },
    {
      "cell_type": "code",
      "execution_count": 25,
      "metadata": {
        "id": "xfVqujA5NiXy",
        "colab": {
          "base_uri": "https://localhost:8080/",
          "height": 204
        },
        "outputId": "f795ec98-5018-4c96-abc4-9496159dc4c0"
      },
      "outputs": [
        {
          "output_type": "stream",
          "name": "stdout",
          "text": [
            " * sqlite:///ejemplos.db\n",
            "Done.\n"
          ]
        },
        {
          "output_type": "execute_result",
          "data": {
            "text/plain": [
              "[(4000.0, 'Recursos Humanos'),\n",
              " (3950.0, 'Atención al Cliente'),\n",
              " (3600.0, 'Ventas'),\n",
              " (3350.0, 'Desarrollo de Producto'),\n",
              " (3183.3333333333335, 'Investigación de Mercado'),\n",
              " (3150.0, 'Marketing')]"
            ],
            "text/html": [
              "<table>\n",
              "    <thead>\n",
              "        <tr>\n",
              "            <th>PromedioSalarios</th>\n",
              "            <th>NombreDepartamento</th>\n",
              "        </tr>\n",
              "    </thead>\n",
              "    <tbody>\n",
              "        <tr>\n",
              "            <td>4000.0</td>\n",
              "            <td>Recursos Humanos</td>\n",
              "        </tr>\n",
              "        <tr>\n",
              "            <td>3950.0</td>\n",
              "            <td>Atención al Cliente</td>\n",
              "        </tr>\n",
              "        <tr>\n",
              "            <td>3600.0</td>\n",
              "            <td>Ventas</td>\n",
              "        </tr>\n",
              "        <tr>\n",
              "            <td>3350.0</td>\n",
              "            <td>Desarrollo de Producto</td>\n",
              "        </tr>\n",
              "        <tr>\n",
              "            <td>3183.3333333333335</td>\n",
              "            <td>Investigación de Mercado</td>\n",
              "        </tr>\n",
              "        <tr>\n",
              "            <td>3150.0</td>\n",
              "            <td>Marketing</td>\n",
              "        </tr>\n",
              "    </tbody>\n",
              "</table>"
            ]
          },
          "metadata": {},
          "execution_count": 25
        }
      ],
      "source": [
        "%%sql\n",
        "SELECT AVG(Empleados.Salario) AS PromedioSalarios, Departamentos.NombreDepartamento FROM Empleados\n",
        "Join Departamentos ON Departamentos.DepartamentoID = Empleados.DepartamentoID\n",
        "GROUP BY Departamentos.NombreDepartamento\n",
        "ORDER BY PromedioSalarios DESC;"
      ],
      "id": "xfVqujA5NiXy"
    }
  ],
  "metadata": {
    "colab": {
      "provenance": []
    },
    "kernelspec": {
      "display_name": "Python 3",
      "name": "python3"
    },
    "language_info": {
      "name": "python"
    }
  },
  "nbformat": 4,
  "nbformat_minor": 5
}